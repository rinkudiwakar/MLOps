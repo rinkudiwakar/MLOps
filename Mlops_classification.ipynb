{
 "cells": [
  {
   "cell_type": "code",
   "execution_count": 11,
   "id": "6d4015a5-21a1-4909-9dfe-1019a7633913",
   "metadata": {},
   "outputs": [],
   "source": [
    "import numpy as np\n",
    "from sklearn.datasets import make_classification\n",
    "from sklearn.model_selection import train_test_split\n",
    "from sklearn.linear_model import LogisticRegression\n",
    "from sklearn.ensemble import RandomForestClassifier\n",
    "from xgboost import XGBClassifier\n",
    "from sklearn.metrics import accuracy_score,precision_score,recall_score,f1_score\n",
    "import warnings\n",
    "warnings.filterwarnings('ignore')"
   ]
  },
  {
   "cell_type": "code",
   "execution_count": 12,
   "id": "5140dcd9-156e-4ed2-8102-c026a1979b44",
   "metadata": {},
   "outputs": [
    {
     "data": {
      "text/plain": [
       "(array([0, 1]), array([900, 100]))"
      ]
     },
     "execution_count": 12,
     "metadata": {},
     "output_type": "execute_result"
    }
   ],
   "source": [
    "# Step 1: Create an imbalanced binary classification dataset\n",
    "X, y = make_classification(n_samples=1000, n_features=10, n_informative=2, n_redundant=8, \n",
    "                           weights=[0.9, 0.1], flip_y=0, random_state=42)\n",
    "\n",
    "np.unique(y, return_counts=True)"
   ]
  },
  {
   "cell_type": "code",
   "execution_count": 13,
   "id": "4257fd74-91be-40ca-8aaf-9d385ec6d09c",
   "metadata": {},
   "outputs": [],
   "source": [
    "X_train,X_test,y_train,y_test=train_test_split(X,y,test_size=0.2,random_state=42)"
   ]
  },
  {
   "cell_type": "code",
   "execution_count": 5,
   "id": "b84b6954",
   "metadata": {},
   "outputs": [],
   "source": [
    "log=XGBClassifier()"
   ]
  },
  {
   "cell_type": "code",
   "execution_count": 6,
   "id": "8b26a52f-e405-4009-9b80-a5ef251cabde",
   "metadata": {},
   "outputs": [],
   "source": [
    "params_logistic={\n",
    "    \"max_iter\" :1000,\n",
    "    \"solver\" :\"lbfgs\",\n",
    "    'penalty' :'l2'\n",
    "}\n",
    "\n",
    "params_random={\n",
    "  \"n_estimators\":150,\n",
    "  \"criterion\" :'entropy',\n",
    "  \"max_depth\":10,\n",
    "  \"min_samples_split\": 10,\n",
    "  \"min_samples_leaf\": 4,\n",
    "  \"bootstrap\": True,\n",
    "  \"oob_score\": True,\n",
    "  \"random_state\": 888,\n",
    "}\n",
    "\n",
    "params_xgboost={\n",
    "    'n_estimators': 100,\n",
    "    'max_depth': 6,\n",
    "    'learning_rate': 0.1,\n",
    "    'subsample': 0.8,\n",
    "    'colsample_bytree': 0.8,\n",
    "    'random_state': 888,\n",
    "}\n",
    "\n"
   ]
  },
  {
   "cell_type": "code",
   "execution_count": 19,
   "id": "2aa387f9-c09a-46d8-a770-5e2c3dea0e22",
   "metadata": {},
   "outputs": [],
   "source": [
    "from imblearn.combine import SMOTETomek\n",
    "smt=SMOTETomek(random_state=42)\n",
    "X_train_res, y_train_res = smt.fit_resample(X_train, y_train)"
   ]
  },
  {
   "cell_type": "code",
   "execution_count": 20,
   "id": "a33d0468",
   "metadata": {},
   "outputs": [
    {
     "data": {
      "text/plain": [
       "(array([0, 1]), array([703, 703]))"
      ]
     },
     "execution_count": 20,
     "metadata": {},
     "output_type": "execute_result"
    }
   ],
   "source": [
    "np.unique(y_train_res, return_counts=True)"
   ]
  },
  {
   "cell_type": "code",
   "execution_count": 21,
   "id": "4caafa97",
   "metadata": {},
   "outputs": [],
   "source": [
    "models=[\n",
    "  (\n",
    "    'LogisticRegression',\n",
    "    LogisticRegression(**params_logistic),\n",
    "    (X_train, y_train),\n",
    "    (X_test, y_test)\n",
    "  ),\n",
    "  ('RandomForestClassifier',\n",
    "   RandomForestClassifier(**params_random),\n",
    "    (X_train, y_train),\n",
    "    (X_test, y_test)\n",
    "  ),\n",
    "  ('XGBClassifier',\n",
    "   XGBClassifier(**params_xgboost),\n",
    "    (X_train_res, y_train_res),\n",
    "    (X_test, y_test)\n",
    "  )\n",
    "]"
   ]
  },
  {
   "cell_type": "code",
   "execution_count": 27,
   "id": "df4692ac",
   "metadata": {},
   "outputs": [],
   "source": [
    "reports = []\n",
    "\n",
    "for model_name, model, train_set, test_set in models:\n",
    "    X_train = train_set[0]\n",
    "    y_train = train_set[1]\n",
    "    X_test = test_set[0]\n",
    "    y_test = test_set[1]\n",
    "    \n",
    "    model.fit(X_train, y_train)\n",
    "    y_pred = model.predict(X_test)\n",
    "    accuracy = accuracy_score(y_test, y_pred)\n",
    "    precision = precision_score(y_test, y_pred)\n",
    "    recall = recall_score(y_test, y_pred)\n",
    "    f1 = f1_score(y_test, y_pred)\n",
    "    report = {\n",
    "        'model': model_name,\n",
    "        'accuracy': accuracy,\n",
    "        'precision': precision,\n",
    "        'recall': recall,\n",
    "        'f1_score': f1\n",
    "    }\n",
    "    reports.append(report)"
   ]
  },
  {
   "cell_type": "code",
   "execution_count": 22,
   "id": "c216cecf",
   "metadata": {},
   "outputs": [],
   "source": [
    "import mlflow\n",
    "import mlflow.sklearn\n",
    "import mlflow.xgboost\n",
    "\n",
    "from mlflow import MlflowClient\n",
    "\n",
    "client=MlflowClient(tracking_uri=\"https://dagshub.com/diwakar.active/MLOps.mlflow\")\n"
   ]
  },
  {
   "cell_type": "code",
   "execution_count": 23,
   "id": "5e767b5e",
   "metadata": {},
   "outputs": [],
   "source": [
    "experiment_description = (\n",
    "  \"This experiment is for classification models on imbalanced dataset using Logistic Regression, Random Forest, and XGBoost.\"\n",
    "\"Imbalanced_Classification_Experiment\"\n",
    ")"
   ]
  },
  {
   "cell_type": "code",
   "execution_count": 24,
   "id": "56ae4b28",
   "metadata": {},
   "outputs": [],
   "source": [
    "experiment_tag={\n",
    "  \"owner\": \"data_scientist_team\",\n",
    "  \"project\": \"Imbalanced_Classification\",\n",
    "  \"Goal\" : \"Evaluate classification models on imbalanced dataset\",\n",
    "  \"Version\": \"1.0\",\n",
    "  \"Release_date\": \"2025-10-29\",\n",
    "  \"mlflow_version\": mlflow.__version__,\n",
    "  \"mlflow.note.content\":experiment_description  \n",
    "}"
   ]
  },
  {
   "cell_type": "code",
   "execution_count": 25,
   "id": "37ad0630",
   "metadata": {},
   "outputs": [
    {
     "data": {
      "text/plain": [
       "'0'"
      ]
     },
     "execution_count": 25,
     "metadata": {},
     "output_type": "execute_result"
    }
   ],
   "source": [
    "client.create_experiment(\n",
    "    name=\"Imbalanced_Classification_Experiment\",\n",
    "    tags=experiment_tag,\n",
    ")"
   ]
  },
  {
   "cell_type": "code",
   "execution_count": 28,
   "id": "a3e49bcb",
   "metadata": {},
   "outputs": [
    {
     "data": {
      "text/plain": [
       "{'model': 'LogisticRegression',\n",
       " 'accuracy': 0.94,\n",
       " 'precision': 0.8125,\n",
       " 'recall': 0.5909090909090909,\n",
       " 'f1_score': 0.6842105263157895}"
      ]
     },
     "execution_count": 28,
     "metadata": {},
     "output_type": "execute_result"
    }
   ],
   "source": [
    "reports[0]"
   ]
  },
  {
   "cell_type": "code",
   "execution_count": 29,
   "id": "ca45750b",
   "metadata": {},
   "outputs": [
    {
     "data": {
      "text/plain": [
       "{'bootstrap': True,\n",
       " 'ccp_alpha': 0.0,\n",
       " 'class_weight': None,\n",
       " 'criterion': 'entropy',\n",
       " 'max_depth': 10,\n",
       " 'max_features': 'sqrt',\n",
       " 'max_leaf_nodes': None,\n",
       " 'max_samples': None,\n",
       " 'min_impurity_decrease': 0.0,\n",
       " 'min_samples_leaf': 4,\n",
       " 'min_samples_split': 10,\n",
       " 'min_weight_fraction_leaf': 0.0,\n",
       " 'monotonic_cst': None,\n",
       " 'n_estimators': 150,\n",
       " 'n_jobs': None,\n",
       " 'oob_score': True,\n",
       " 'random_state': 888,\n",
       " 'verbose': 0,\n",
       " 'warm_start': False}"
      ]
     },
     "execution_count": 29,
     "metadata": {},
     "output_type": "execute_result"
    }
   ],
   "source": [
    "para=models[1][1]\n",
    "para.get_params()"
   ]
  },
  {
   "cell_type": "code",
   "execution_count": 30,
   "id": "df9a43f5",
   "metadata": {},
   "outputs": [
    {
     "data": {
      "text/plain": [
       "{'model': 'LogisticRegression',\n",
       " 'accuracy': 0.94,\n",
       " 'precision': 0.8125,\n",
       " 'recall': 0.5909090909090909,\n",
       " 'f1_score': 0.6842105263157895}"
      ]
     },
     "execution_count": 30,
     "metadata": {},
     "output_type": "execute_result"
    }
   ],
   "source": [
    "reports[0]"
   ]
  },
  {
   "cell_type": "code",
   "execution_count": 39,
   "id": "2bb39b2c",
   "metadata": {},
   "outputs": [
    {
     "name": "stdout",
     "output_type": "stream",
     "text": [
      "Logged LogisticRegression model to MLflow.\n",
      "🏃 View run LogisticRegression at: https://dagshub.com/diwakar.active/MLOps.mlflow/#/experiments/0/runs/2925bc1885b343c3a6800cf6555be3d9\n",
      "🧪 View experiment at: https://dagshub.com/diwakar.active/MLOps.mlflow/#/experiments/0\n",
      "🏃 View run LogisticRegression at: https://dagshub.com/diwakar.active/MLOps.mlflow/#/experiments/0/runs/2925bc1885b343c3a6800cf6555be3d9\n",
      "🧪 View experiment at: https://dagshub.com/diwakar.active/MLOps.mlflow/#/experiments/0\n",
      "Logged RandomForestClassifier model to MLflow.\n",
      "Logged RandomForestClassifier model to MLflow.\n",
      "🏃 View run RandomForestClassifier at: https://dagshub.com/diwakar.active/MLOps.mlflow/#/experiments/0/runs/75e881725e904c62a8ea9c9f2926969f\n",
      "🧪 View experiment at: https://dagshub.com/diwakar.active/MLOps.mlflow/#/experiments/0\n",
      "🏃 View run RandomForestClassifier at: https://dagshub.com/diwakar.active/MLOps.mlflow/#/experiments/0/runs/75e881725e904c62a8ea9c9f2926969f\n",
      "🧪 View experiment at: https://dagshub.com/diwakar.active/MLOps.mlflow/#/experiments/0\n",
      "Logged XGBClassifier model to MLflow.\n",
      "Logged XGBClassifier model to MLflow.\n",
      "🏃 View run XGBClassifier at: https://dagshub.com/diwakar.active/MLOps.mlflow/#/experiments/0/runs/30a5a3691c6e4f61b5ab07cdca63a975\n",
      "🧪 View experiment at: https://dagshub.com/diwakar.active/MLOps.mlflow/#/experiments/0\n",
      "🏃 View run XGBClassifier at: https://dagshub.com/diwakar.active/MLOps.mlflow/#/experiments/0/runs/30a5a3691c6e4f61b5ab07cdca63a975\n",
      "🧪 View experiment at: https://dagshub.com/diwakar.active/MLOps.mlflow/#/experiments/0\n"
     ]
    }
   ],
   "source": [
    "import mlflow\n",
    "import os\n",
    "\n",
    "mlflow.set_tracking_uri(\"https://dagshub.com/diwakar.active/MLOps.mlflow\")\n",
    "mlflow.set_experiment(\"Imbalanced_Classification_Experiment\")\n",
    "\n",
    "for i, element in enumerate(models):\n",
    "    model_name = element[0]\n",
    "    model = element[1]\n",
    "    para = element[1].get_params()\n",
    "    report = reports[i]\n",
    "    name = model_name + \"_model\"\n",
    "    \n",
    "    with mlflow.start_run(run_name=model_name):\n",
    "        mlflow.log_param(\"params\", para)\n",
    "        mlflow.log_metric('accuracy', report['accuracy'])\n",
    "        mlflow.log_metric('Recall', report['recall'])\n",
    "        mlflow.log_metric('Precision', report['precision'])\n",
    "        mlflow.log_metric('f1_score', report['f1_score'])\n",
    "        \n",
    "        # --- FIX STARTS HERE ---\n",
    "        model_dir = f\"models/{name}\"\n",
    "        if \"XGB\" in model_name:\n",
    "            mlflow.xgboost.save_model(xgb_model=model, path=model_dir)\n",
    "        else:\n",
    "            mlflow.sklearn.save_model(sk_model=model, path=model_dir)\n",
    "            \n",
    "        # log the model directory as an artifact instead of using log_model\n",
    "        mlflow.log_artifacts(model_dir, artifact_path=name)\n",
    "        # --- FIX ENDS HERE ---\n",
    "        print(f\"Logged {model_name} model to MLflow.\")\n",
    "        "
   ]
  },
  {
   "cell_type": "markdown",
   "id": "be34d4a0",
   "metadata": {},
   "source": [
    "## Register the model (By comapairing we get to know Random forest perform best so we chose this in model Registry)"
   ]
  },
  {
   "cell_type": "code",
   "execution_count": 2,
   "id": "77347fa8",
   "metadata": {},
   "outputs": [],
   "source": [
    "import mlflow\n",
    "mlflow.set_tracking_uri(\"https://dagshub.com/diwakar.active/MLOps.mlflow\")"
   ]
  },
  {
   "cell_type": "code",
   "execution_count": null,
   "id": "10c5e77e",
   "metadata": {},
   "outputs": [
    {
     "name": "stderr",
     "output_type": "stream",
     "text": [
      "Registered model 'RandomForestClassifier' already exists. Creating a new version of this model...\n",
      "2025/10/31 05:47:52 INFO mlflow.store.model_registry.abstract_store: Waiting up to 300 seconds for model version to finish creation. Model name: RandomForestClassifier, version 1\n"
     ]
    },
    {
     "name": "stdout",
     "output_type": "stream",
     "text": [
      "Model registered as RandomForestClassifier with version 1\n"
     ]
    },
    {
     "name": "stderr",
     "output_type": "stream",
     "text": [
      "Created version '1' of model 'RandomForestClassifier'.\n"
     ]
    }
   ],
   "source": [
    "run_id=input(\"Enter the run ID to register the model: \")\n",
    "model_name = \"RandomForestClassifier\"\n",
    "model_uri = f\"runs:/{run_id}/{model_name}_model\"\n",
    "registered_model = mlflow.register_model(model_uri=model_uri, name=model_name)\n",
    "print(f\"Model registered as {model_name} with version {registered_model.version}\")"
   ]
  },
  {
   "cell_type": "markdown",
   "id": "bcaca213",
   "metadata": {},
   "source": [
    "### Load Model"
   ]
  },
  {
   "cell_type": "code",
   "execution_count": 8,
   "id": "0d5f504f",
   "metadata": {},
   "outputs": [
    {
     "name": "stderr",
     "output_type": "stream",
     "text": [
      "Downloading artifacts: 100%|██████████| 5/5 [00:02<00:00,  2.29it/s]"
     ]
    },
    {
     "name": "stdout",
     "output_type": "stream",
     "text": [
      "[0 1 0 0]\n"
     ]
    },
    {
     "name": "stderr",
     "output_type": "stream",
     "text": [
      "\n"
     ]
    }
   ],
   "source": [
    "import mlflow\n",
    "mlflow.set_tracking_uri(\"https://dagshub.com/diwakar.active/MLOps.mlflow\")\n",
    "#un_id = input(\"Enter the run ID to register the model: \")\n",
    "#artifact_path = f\"models/{model_name}_Registered\"\n",
    "\n",
    "#model_uri = f\"runs:/{run_id}/{artifact_path}\"\n",
    "model_uri=\"mlflow-artifacts:/323c71440ba34f688cea412f4823f5f8/30a5a3691c6e4f61b5ab07cdca63a975/artifacts/XGBClassifier_model\"\n",
    "loaded_model = mlflow.xgboost.load_model(model_uri=model_uri)\n",
    "\n",
    "y_pred = loaded_model.predict(X_test)\n",
    "print(y_pred[:4])\n"
   ]
  },
  {
   "cell_type": "code",
   "execution_count": 9,
   "id": "d16625b1",
   "metadata": {},
   "outputs": [
    {
     "data": {
      "text/plain": [
       "array([0, 1, 0, 0])"
      ]
     },
     "execution_count": 9,
     "metadata": {},
     "output_type": "execute_result"
    }
   ],
   "source": [
    "y_test[:4]"
   ]
  },
  {
   "cell_type": "markdown",
   "id": "5c40860d",
   "metadata": {},
   "source": [
    "#### Transition to production"
   ]
  },
  {
   "cell_type": "code",
   "execution_count": 9,
   "id": "cf5e0a93",
   "metadata": {},
   "outputs": [
    {
     "name": "stdout",
     "output_type": "stream",
     "text": [
      "Model version 1 promoted to Production ✅\n"
     ]
    }
   ],
   "source": [
    "from mlflow.tracking import MlflowClient\n",
    "client = MlflowClient()\n",
    "model_version = registered_model.version\n",
    "client.set_registered_model_alias(name=model_name, alias=\"Production\", version=model_version)\n",
    "print(f\"Model version {model_version} promoted to Production ✅\")\n"
   ]
  },
  {
   "cell_type": "code",
   "execution_count": 14,
   "id": "457ac872",
   "metadata": {},
   "outputs": [
    {
     "name": "stderr",
     "output_type": "stream",
     "text": [
      "Downloading artifacts: 100%|██████████| 5/5 [00:02<00:00,  1.92it/s]"
     ]
    },
    {
     "name": "stdout",
     "output_type": "stream",
     "text": [
      "[0 1 0 0 0]\n"
     ]
    },
    {
     "name": "stderr",
     "output_type": "stream",
     "text": [
      "\n"
     ]
    }
   ],
   "source": [
    "prod_model = mlflow.sklearn.load_model(model_uri=f\"models:/{model_name}@Production\")\n",
    "\n",
    "# Use it\n",
    "y_pred = prod_model.predict(X_test)\n",
    "print(y_pred[:5])\n"
   ]
  },
  {
   "cell_type": "code",
   "execution_count": null,
   "id": "a4775695",
   "metadata": {},
   "outputs": [
    {
     "name": "stderr",
     "output_type": "stream",
     "text": [
      "Downloading artifacts: 100%|██████████| 5/5 [00:00<00:00, 22.79it/s] \n"
     ]
    },
    {
     "data": {
      "text/plain": [
       "array([0, 1, 0, 0])"
      ]
     },
     "execution_count": 65,
     "metadata": {},
     "output_type": "execute_result"
    }
   ],
   "source": [
    "production_model_name=\"XGBClassifier_Registered\"\n",
    "model_version = 1\n",
    "prod_model_uri = f\"models:/{production_model_name}@challender\"\n",
    "\n",
    "loaded_model = mlflow.sklearn.load_model(prod_model_uri)\n",
    "y_pred = loaded_model.predict(X_test)\n",
    "y_pred[:4]"
   ]
  },
  {
   "cell_type": "markdown",
   "id": "d44af675",
   "metadata": {},
   "source": [
    "## DagsHUb "
   ]
  },
  {
   "cell_type": "code",
   "execution_count": 6,
   "id": "c7e636b2",
   "metadata": {},
   "outputs": [],
   "source": [
    "# Ideally you will not require following 4 lines if you have started fresh and do not have any previous dagshub credentials on your computer\n",
    "import os\n",
    "os.environ['MLFLOW_TRACKING_USERNAME'] = 'diwakar.active' # 'learnpythonlanguage'\n",
    "os.environ['MLFLOW_TRACKING_PASSWORD'] = 'Rinku@9137' # \n",
    "os.environ['MLFLOW_TRACKING_URI'] = 'https://dagshub.com/diwakar.active/MLOps.mlflow' # https://dagshub.com/learnpythonlanguage/mlflow_dagshub_demo.mlflow\n"
   ]
  },
  {
   "cell_type": "code",
   "execution_count": 7,
   "id": "f07dbd43",
   "metadata": {},
   "outputs": [
    {
     "data": {
      "text/html": [
       "<pre style=\"white-space:pre;overflow-x:auto;line-height:normal;font-family:Menlo,'DejaVu Sans Mono',consolas,'Courier New',monospace\">Accessing as diwakar.active\n",
       "</pre>\n"
      ],
      "text/plain": [
       "Accessing as diwakar.active\n"
      ]
     },
     "metadata": {},
     "output_type": "display_data"
    },
    {
     "data": {
      "text/html": [
       "<pre style=\"white-space:pre;overflow-x:auto;line-height:normal;font-family:Menlo,'DejaVu Sans Mono',consolas,'Courier New',monospace\">Initialized MLflow to track repo <span style=\"color: #008000; text-decoration-color: #008000\">\"diwakar.active/MLOps\"</span>\n",
       "</pre>\n"
      ],
      "text/plain": [
       "Initialized MLflow to track repo \u001b[32m\"diwakar.active/MLOps\"\u001b[0m\n"
      ]
     },
     "metadata": {},
     "output_type": "display_data"
    },
    {
     "data": {
      "text/html": [
       "<pre style=\"white-space:pre;overflow-x:auto;line-height:normal;font-family:Menlo,'DejaVu Sans Mono',consolas,'Courier New',monospace\">Repository diwakar.active/MLOps initialized!\n",
       "</pre>\n"
      ],
      "text/plain": [
       "Repository diwakar.active/MLOps initialized!\n"
      ]
     },
     "metadata": {},
     "output_type": "display_data"
    }
   ],
   "source": [
    "import dagshub\n",
    "dagshub.init(repo_owner='diwakar.active', repo_name='MLOps', mlflow=True)"
   ]
  }
 ],
 "metadata": {
  "kernelspec": {
   "display_name": "MlOps",
   "language": "python",
   "name": "python3"
  },
  "language_info": {
   "codemirror_mode": {
    "name": "ipython",
    "version": 3
   },
   "file_extension": ".py",
   "mimetype": "text/x-python",
   "name": "python",
   "nbconvert_exporter": "python",
   "pygments_lexer": "ipython3",
   "version": "3.12.1"
  }
 },
 "nbformat": 4,
 "nbformat_minor": 5
}
